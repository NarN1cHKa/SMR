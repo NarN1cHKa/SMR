{
 "cells": [
  {
   "cell_type": "code",
   "execution_count": 9,
   "metadata": {},
   "outputs": [],
   "source": [
    "import random as rn\n",
    "import numpy as np\n",
    "import matplotlib.pyplot as plt"
   ]
  },
  {
   "cell_type": "code",
   "execution_count": 10,
   "metadata": {},
   "outputs": [
    {
     "name": "stdout",
     "output_type": "stream",
     "text": [
      "[ 3.56115863  3.45932687  1.31480811  2.68436051  3.00050527 -0.07861253\n",
      "  2.45019057  2.6489549   3.13586074  2.6932189   3.87473287  2.00283302\n",
      " -0.50990997  1.19285078  1.35562024 -0.63871181  4.38054971  2.45205153\n",
      "  0.67293469  3.23752325  1.20726248  4.05954572 -2.26936865  3.77996457\n",
      "  2.74563793  2.81472228 -1.06001459  0.14724259  1.21946175  4.3935691\n",
      " -1.75223618  2.28808828  3.16410181  1.17259924  4.08555019  3.49741055\n",
      "  3.10622965  0.69947765  1.7266882   3.36522472  3.92290672  3.99548275\n",
      " -0.044391    0.84108351 -0.4024847   3.87848974  2.86834501 -1.36834957\n",
      "  3.02353839 -1.21417983  1.93725606  0.95706735  2.46670215  0.86099456\n",
      " -0.83859234  2.18728163 -0.2382642   3.5006867   2.5483586   0.29819392\n",
      "  2.16698707  1.20791664  1.74738026  3.07289192  0.07818558  3.15004246\n",
      " -1.8850428   3.23594805  3.81652396 -0.24826186  3.39579362  0.45228468\n",
      "  0.72975405  3.39447807  1.72221411 -0.5007545   3.75663423  3.5842717\n",
      "  3.49408092  2.96486775  1.81682651 -0.69117944  2.59552097  2.40313092\n",
      "  4.01258705  2.65940725  2.80923503  1.03411372  1.81482151  1.62883418\n",
      "  4.61185218  3.13117434  3.66008572  3.32244409  3.1693847   1.70802233\n",
      "  0.97325994  3.41163658  2.58790103 -0.48257956]\n"
     ]
    }
   ],
   "source": [
    "N = 100\n",
    "a1_real = 0\n",
    "a2_real = 3\n",
    "d = 1\n",
    "X = np.zeros(N)\n",
    "\n",
    "for i in range(N):\n",
    "    prob = rn.uniform(0,1)\n",
    "    if prob <= 1/3:\n",
    "        X[i] = rn.normalvariate(a1_real,d)\n",
    "    else:\n",
    "        X[i] = rn.normalvariate(a2_real,d)\n",
    "\n",
    "print(X)\n"
   ]
  },
  {
   "cell_type": "code",
   "execution_count": 11,
   "metadata": {},
   "outputs": [
    {
     "data": {
      "image/png": "[encoded data removed]",
      "text/plain": [
       "<Figure size 640x480 with 1 Axes>"
      ]
     },
     "metadata": {},
     "output_type": "display_data"
    }
   ],
   "source": [
    "plt.hist([X[i] for i in range(N)])\n",
    "plt.title(\"Суміш нормально розподілених величин\")\n",
    "plt.show()"
   ]
  },
  {
   "cell_type": "markdown",
   "metadata": {},
   "source": [
    "![image](алгоритм.jpg)"
   ]
  },
  {
   "cell_type": "code",
   "execution_count": 17,
   "metadata": {},
   "outputs": [
    {
     "name": "stdout",
     "output_type": "stream",
     "text": [
      "Ітерація 1: a = [1. 2.], p = [0.5 0.5]\n",
      "Ітерація 2: a = [1. 3.], p = [0.40572746 0.59427254]\n",
      "Ітерація 3: a = [0. 3.], p = [0.4236308 0.5763692]\n",
      "Ітерація 4: a = [0. 3.], p = [0.34686515 0.65313485]\n",
      "Ітерація 5: a = [0. 3.], p = [0.3299366 0.6700634]\n",
      "Ітерація 6: a = [0. 3.], p = [0.32603013 0.67396987]\n"
     ]
    }
   ],
   "source": [
    "def f(x,a):\n",
    "    return 1/np.sqrt(2*np.pi)*np.exp(-(x-a)**2/2)\n",
    "\n",
    "T = 10\n",
    "p = np.zeros((T,2))\n",
    "p[0] = [0.5,0.5]\n",
    "a = np.zeros((T,2))\n",
    "a[0] = [1,2]\n",
    "\n",
    "\n",
    "for t in range(T-1):\n",
    "    alpha = np.zeros((N,2))\n",
    "    for i in range(N):\n",
    "        denum = 0\n",
    "        for k in range(2):  \n",
    "            denum += p[t][k]*f(X[i],a[t][k])\n",
    "        for k in range(2):\n",
    "            alpha[i][k] = p[t][k]*f(X[i],a[t][k])/denum\n",
    "\n",
    "    for k in range(2):\n",
    "        for i in range(N):\n",
    "            p[t+1][k] += alpha[i][k]/N\n",
    " \n",
    "    for k in range(2):\n",
    "        if k == 0:\n",
    "            a_0 = [-1,0,1]\n",
    "            whoargmax_0 = np.zeros(len(a_0))\n",
    "            for j in range(len(a_0)):\n",
    "                for i in range(N):\n",
    "                    whoargmax_0[j] += alpha[i][k]*np.log(f(X[i],a_0[j]))\n",
    "            a[t+1][0] = a_0[np.argmax(whoargmax_0)]\n",
    "        else: \n",
    "            a_1 = [1,2,3]\n",
    "            whoargmax_1 = np.zeros(len(a_1))\n",
    "            for j in range(len(a_1)):\n",
    "                for i in range(N):\n",
    "                    whoargmax_1[j] += alpha[i][k]*np.log(f(X[i],a_1[j]))\n",
    "            a[t+1][1] = a_1[np.argmax(whoargmax_1)]\n",
    "\n",
    "    print(f\"Ітерація {t+1}: a = {a[t]}, p = {p[t]}\")\n",
    "\n",
    "    if abs(p[t+1][0] - p[t][0]) < 0.001 and abs(p[t+1][1] - p[t][1]) < 0.001 and a[t+1][0] == a[t][0] and a[t+1][1] == a[t][1]:\n",
    "        break\n",
    "    \n",
    "\n",
    "\n",
    "    "
   ]
  }
 ],
 "metadata": {
  "kernelspec": {
   "display_name": "Python 3",
   "language": "python",
   "name": "python3"
  },
  "language_info": {
   "codemirror_mode": {
    "name": "ipython",
    "version": 3
   },
   "file_extension": ".py",
   "mimetype": "text/x-python",
   "name": "python",
   "nbconvert_exporter": "python",
   "pygments_lexer": "ipython3",
   "version": "3.10.7"
  }
 },
 "nbformat": 4,
 "nbformat_minor": 2
}
