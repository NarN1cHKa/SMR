{
 "cells": [
  {
   "cell_type": "code",
   "execution_count": 1,
   "metadata": {},
   "outputs": [],
   "source": [
    "import random as rn\n",
    "import numpy as np\n",
    "import matplotlib.pyplot as plt"
   ]
  },
  {
   "cell_type": "code",
   "execution_count": 2,
   "metadata": {},
   "outputs": [
    {
     "name": "stdout",
     "output_type": "stream",
     "text": [
      "[ 2.00287219  1.94310201 -0.69303337  0.1134985   0.74829574 -0.2698183\n",
      "  1.84125846 -0.67039056  1.47783267 -0.59630044  3.68802492 -2.420935\n",
      "  2.57681911  2.35407798  1.24292765  3.38327375  0.30664864  2.57686543\n",
      "  2.10332201  4.17961132  0.58901403  2.11932656  3.57324806  2.48821191\n",
      "  0.87992301  0.38800492  2.27059554  3.47971547  3.33322573  1.7823191\n",
      "  3.71883102  1.44646648  0.12544395  2.49917496  4.15847554 -0.23315382\n",
      "  2.98767237  1.76951448  1.84504128  3.84178216 -0.18979074  1.72300553\n",
      " -1.02580167  4.26204729  2.45855724  3.3638462   1.94095689  1.95935801\n",
      "  3.55045809 -0.3336329   0.7099118   2.85789134  3.0290873   2.32500554\n",
      "  1.04191416 -0.45072548  3.99030678  1.60335343 -0.76958168  1.43576494\n",
      "  2.00839186  0.40121774  2.93780285  0.77860202 -0.50719018  3.77582235\n",
      "  0.19959228  4.1791229   3.78821275  0.68583803  3.11156033  1.79210642\n",
      "  3.02709721  4.08597274  3.26499322  4.4712389   3.49914513  3.60770865\n",
      "  4.93157696  3.44387037  2.4500806   1.58985947  2.54161158  2.65346342\n",
      "  3.07530315  3.61599092  0.89274392 -0.28346293  1.32146756  1.53987387\n",
      "  0.55336487  0.46980162  2.93097081  1.46741969 -0.03190644  3.43659133\n",
      "  1.91376314  3.4244818   2.87446853  3.56916015]\n"
     ]
    }
   ],
   "source": [
    "N = 100\n",
    "a1_real = 0\n",
    "a2_real = 3\n",
    "d = 1\n",
    "X = np.zeros(N)\n",
    "\n",
    "for i in range(N):\n",
    "    prob = rn.uniform(0,1)\n",
    "    if prob <= 1/3:\n",
    "        X[i] = rn.normalvariate(a1_real,d)\n",
    "    else:\n",
    "        X[i] = rn.normalvariate(a2_real,d)\n",
    "\n",
    "print(X)\n"
   ]
  },
  {
   "cell_type": "code",
   "execution_count": 3,
   "metadata": {},
   "outputs": [
    {
     "data": {
      "image/png": "[encoded data removed]",
      "text/plain": [
       "<Figure size 640x480 with 1 Axes>"
      ]
     },
     "metadata": {},
     "output_type": "display_data"
    }
   ],
   "source": [
    "plt.hist([X[i] for i in range(N)])\n",
    "plt.title(\"Суміш нормально розподілених величин\")\n",
    "plt.show()"
   ]
  },
  {
   "cell_type": "markdown",
   "metadata": {},
   "source": [
    "![image](алгоритм.jpg)"
   ]
  },
  {
   "cell_type": "code",
   "execution_count": 4,
   "metadata": {},
   "outputs": [
    {
     "name": "stdout",
     "output_type": "stream",
     "text": [
      "\n",
      "\n",
      "\n",
      "\n",
      "\n",
      "\n"
     ]
    }
   ],
   "source": [
    "def f(x,a):\n",
    "    return 1/np.sqrt(2*np.pi)*np.exp(-(x-a)**2/2)\n",
    "\n",
    "T = 10\n",
    "p = np.zeros((T,2))\n",
    "p[0] = [0.5,0.5]\n",
    "a = np.zeros((T,2))\n",
    "a[0] = [1,2]\n",
    "\n",
    "\n",
    "for t in range(T-1):\n",
    "    alpha = np.zeros((N,2))\n",
    "    for i in range(N):\n",
    "        denum = 0\n",
    "        for k in range(2):  \n",
    "            denum += p[t][k]*f(X[i],a[t][k])\n",
    "        for k in range(2):\n",
    "            alpha[i][k] = p[t][k]*f(X[i],a[t][k])/denum\n",
    "\n",
    "    for k in range(2):\n",
    "        for i in range(N):\n",
    "            p[t+1][k] += alpha[i][k]/N\n",
    " \n",
    "    for k in range(2):\n",
    "        if k == 0:\n",
    "            a_0 = [-1,0,1]\n",
    "            whoargmax_0 = np.zeros(len(a_0))\n",
    "            for j in range(len(a_0)):\n",
    "                for i in range(N):\n",
    "                    whoargmax_0[j] += alpha[i][k]*np.log(f(X[i],a_0[j]))\n",
    "            a[t+1][0] = a_0[np.argmax(whoargmax_0)]\n",
    "        else: \n",
    "            a_1 = [1,2,3]\n",
    "            whoargmax_1 = np.zeros(len(a_1))\n",
    "            for j in range(len(a_1)):\n",
    "                for i in range(N):\n",
    "                    whoargmax_1[j] += alpha[i][k]*np.log(f(X[i],a_1[j]))\n",
    "            a[t+1][1] = a_1[np.argmax(whoargmax_1)]\n",
    "\n",
    "    print(f\"\")\n",
    "\n",
    "    if abs(p[t+1][0] - p[t][0]) < 0.001 and abs(p[t+1][1] - p[t][1]) < 0.001 and a[t+1][0] == a[t][0] and a[t+1][1] == a[t][1]:\n",
    "        break\n",
    "    \n",
    "\n",
    "\n",
    "    "
   ]
  }
 ],
 "metadata": {
  "kernelspec": {
   "display_name": "Python 3",
   "language": "python",
   "name": "python3"
  },
  "language_info": {
   "codemirror_mode": {
    "name": "ipython",
    "version": 3
   },
   "file_extension": ".py",
   "mimetype": "text/x-python",
   "name": "python",
   "nbconvert_exporter": "python",
   "pygments_lexer": "ipython3",
   "version": "3.10.7"
  }
 },
 "nbformat": 4,
 "nbformat_minor": 2
}
