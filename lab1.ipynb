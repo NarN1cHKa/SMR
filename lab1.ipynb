{
 "cells": [
  {
   "cell_type": "code",
   "execution_count": 1,
   "metadata": {},
   "outputs": [],
   "source": [
    "import numpy as np\n",
    "import math\n",
    "#from scipy.special import comb\n",
    "from numba import jit, cuda"
   ]
  },
  {
   "cell_type": "code",
   "execution_count": 2,
   "metadata": {},
   "outputs": [],
   "source": [
    "# n = 31\n",
    "\n",
    "# @jit(nopython=True)\n",
    "# def count_combinations(n, k):\n",
    "#   if k > n:\n",
    "#     return 0\n",
    "#   if k == 0 or k == n:\n",
    "#     return 1\n",
    "#   return count_combinations(n - 1, k - 1) + count_combinations(n - 1, k)\n",
    "\n",
    "# @jit(nopython=True)\n",
    "# def calculate(n):\n",
    "#     D = np.arange(n+1)\n",
    "#     w = np.zeros(len(D))    \n",
    "#     for q in D:\n",
    "#         for sum_k in D:\n",
    "#             for count_sum_k in range(count_combinations(n,sum_k)):\n",
    "#                 w[q] = w[q] + (q-sum_k)**2\n",
    "    \n",
    "#     return w,np.argmin(w)\n",
    "\n",
    "# w = calculate(n)[0]\n",
    "# q = calculate(n)[1]\n",
    "\n",
    "# print(\"q =\", q)\n",
    "# print(\"w =\", w)       "
   ]
  },
  {
   "cell_type": "code",
   "execution_count": 3,
   "metadata": {},
   "outputs": [
    {
     "ename": "OverflowError",
     "evalue": "Python int too large to convert to C long",
     "output_type": "error",
     "traceback": [
      "\u001b[1;31m---------------------------------------------------------------------------\u001b[0m",
      "\u001b[1;31mOverflowError\u001b[0m                             Traceback (most recent call last)",
      "Cell \u001b[1;32mIn [3], line 9\u001b[0m\n\u001b[0;32m      7\u001b[0m     \u001b[38;5;28;01mfor\u001b[39;00m sum_k \u001b[38;5;129;01min\u001b[39;00m D:\n\u001b[0;32m      8\u001b[0m         count_sum_k \u001b[38;5;241m=\u001b[39m math\u001b[38;5;241m.\u001b[39mcomb(n,sum_k)\n\u001b[1;32m----> 9\u001b[0m         w[q] \u001b[38;5;241m=\u001b[39m w[q] \u001b[38;5;241m+\u001b[39m count_sum_k \u001b[38;5;241m*\u001b[39m (q\u001b[38;5;241m-\u001b[39msum_k)\u001b[38;5;241m*\u001b[39m\u001b[38;5;241m*\u001b[39m\u001b[38;5;241m2\u001b[39m\n\u001b[0;32m     11\u001b[0m \u001b[38;5;28mprint\u001b[39m(\u001b[38;5;124m\"\u001b[39m\u001b[38;5;124mq =\u001b[39m\u001b[38;5;124m\"\u001b[39m, np\u001b[38;5;241m.\u001b[39margmin(w))\n\u001b[0;32m     12\u001b[0m \u001b[38;5;28mprint\u001b[39m(\u001b[38;5;124m\"\u001b[39m\u001b[38;5;124mw =\u001b[39m\u001b[38;5;124m\"\u001b[39m, w)\n",
      "\u001b[1;31mOverflowError\u001b[0m: Python int too large to convert to C long"
     ]
    }
   ],
   "source": [
    "n = 1000\n",
    "\n",
    "D = np.arange(n+1)\n",
    "w = np.array([0]*len(D), dtype='long')  \n",
    "\n",
    "for q in D:\n",
    "    for sum_k in D:\n",
    "        count_sum_k = math.comb(n,sum_k)\n",
    "        w[q] = w[q] + count_sum_k * (q-sum_k)**2\n",
    "\n",
    "print(\"q =\", np.argmin(w))\n",
    "print(\"w =\", w) "
   ]
  }
 ],
 "metadata": {
  "kernelspec": {
   "display_name": "Python 3",
   "language": "python",
   "name": "python3"
  },
  "language_info": {
   "codemirror_mode": {
    "name": "ipython",
    "version": 3
   },
   "file_extension": ".py",
   "mimetype": "text/x-python",
   "name": "python",
   "nbconvert_exporter": "python",
   "pygments_lexer": "ipython3",
   "version": "3.10.7"
  }
 },
 "nbformat": 4,
 "nbformat_minor": 2
}
