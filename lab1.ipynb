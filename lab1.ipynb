{
 "cells": [
  {
   "cell_type": "code",
   "execution_count": 4,
   "metadata": {},
   "outputs": [],
   "source": [
    "import numpy as np\n",
    "import math"
   ]
  },
  {
   "cell_type": "code",
   "execution_count": 18,
   "metadata": {},
   "outputs": [
    {
     "name": "stdout",
     "output_type": "stream",
     "text": [
      "q = 50\n"
     ]
    },
    {
     "name": "stderr",
     "output_type": "stream",
     "text": [
      "C:\\Users\\Дмитро\\AppData\\Local\\Temp\\ipykernel_13708\\4195692355.py:9: RuntimeWarning: overflow encountered in long_scalars\n",
      "  w[q] = w[q] + count_sum_k * (q-sum_k)**2\n",
      "C:\\Users\\Дмитро\\AppData\\Local\\Temp\\ipykernel_13708\\4195692355.py:9: RuntimeWarning: overflow encountered in longlong_scalars\n",
      "  w[q] = w[q] + count_sum_k * (q-sum_k)**2\n"
     ]
    }
   ],
   "source": [
    "n = 100\n",
    "\n",
    "D = np.arange(n+1)\n",
    "w = [0]*len(D) \n",
    "\n",
    "for q in D:\n",
    "    for sum_k in D:\n",
    "        count_sum_k = math.comb(n,sum_k)\n",
    "        w[q] = w[q] + count_sum_k * (q-sum_k)**2\n",
    "\n",
    "print(\"q =\", np.argmin(w))"
   ]
  }
 ],
 "metadata": {
  "kernelspec": {
   "display_name": "Python 3",
   "language": "python",
   "name": "python3"
  },
  "language_info": {
   "codemirror_mode": {
    "name": "ipython",
    "version": 3
   },
   "file_extension": ".py",
   "mimetype": "text/x-python",
   "name": "python",
   "nbconvert_exporter": "python",
   "pygments_lexer": "ipython3",
   "version": "3.10.7"
  }
 },
 "nbformat": 4,
 "nbformat_minor": 2
}
